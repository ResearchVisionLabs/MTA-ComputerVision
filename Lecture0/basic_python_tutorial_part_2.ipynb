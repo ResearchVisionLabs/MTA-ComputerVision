{
  "cells": [
    {
      "cell_type": "markdown",
      "metadata": {
        "id": "ikFOAj0y7QJy"
      },
      "source": [
        "# Python Workshop: Basics II\n",
        "[![Open In Colab](https://colab.research.google.com/assets/colab-badge.svg)](https://colab.research.google.com/github/YoniChechik/AI_is_Math/blob/master/c_01_intro_to_CV_and_Python/basic_python_tutorial_part_2.ipynb)\n",
        "\n",
        "<hr>\n",
        "\n",
        "Based on:\n",
        "\n",
        "this [git](https://github.com/zhiyzuo/python-tutorial) of Zhiya Zuo\n",
        "\n",
        "&\n",
        "\n",
        "tutorials from [tutorialspoint](https://www.tutorialspoint.com/python)\n",
        "\n",
        "<hr>\n",
        "\n",
        "## Control Logics\n",
        "\n",
        "In the following examples, we show examples of comparison, `if-else` loop, `for` loop, and `while` loop.\n",
        "### Comparison\n",
        "Python syntax for comparison is the same as our hand-written convention:\n",
        "\n",
        "1. Larger (or equal): `>` (`>=`)\n",
        "2. Smaller (or equal): `<` (`<=`)\n",
        "3. Equal to: `==`\n",
        "4. Not equal to: `!=`\n",
        "\n"
      ]
    },
    {
      "cell_type": "code",
      "execution_count": null,
      "metadata": {
        "execution": {
          "iopub.execute_input": "2025-01-02T09:30:52.442458Z",
          "iopub.status.busy": "2025-01-02T09:30:52.442458Z",
          "iopub.status.idle": "2025-01-02T09:30:52.465323Z",
          "shell.execute_reply": "2025-01-02T09:30:52.465323Z"
        },
        "id": "qO8GN6tD7QJ1",
        "outputId": "1fc6a5b6-f4c7-4236-c8e4-6b7095361172"
      },
      "outputs": [
        {
          "data": {
            "text/plain": [
              "False"
            ]
          },
          "execution_count": 1,
          "metadata": {},
          "output_type": "execute_result"
        }
      ],
      "source": [
        "3 == 5"
      ]
    },
    {
      "cell_type": "code",
      "execution_count": null,
      "metadata": {
        "execution": {
          "iopub.execute_input": "2025-01-02T09:30:52.474445Z",
          "iopub.status.busy": "2025-01-02T09:30:52.474445Z",
          "iopub.status.idle": "2025-01-02T09:30:52.489634Z",
          "shell.execute_reply": "2025-01-02T09:30:52.489634Z"
        },
        "id": "l7uOge6O7QJ3",
        "outputId": "b54f9669-7a1f-4ccb-8525-d90d0d6990a0"
      },
      "outputs": [
        {
          "data": {
            "text/plain": [
              "True"
            ]
          },
          "execution_count": 2,
          "metadata": {},
          "output_type": "execute_result"
        }
      ],
      "source": [
        "72 >= 2"
      ]
    },
    {
      "cell_type": "code",
      "execution_count": null,
      "metadata": {
        "execution": {
          "iopub.execute_input": "2025-01-02T09:30:52.489634Z",
          "iopub.status.busy": "2025-01-02T09:30:52.489634Z",
          "iopub.status.idle": "2025-01-02T09:30:52.494231Z",
          "shell.execute_reply": "2025-01-02T09:30:52.494231Z"
        },
        "id": "-PjkQJrP7QJ4",
        "outputId": "83579d32-2abe-4919-cde0-91d77914ce99"
      },
      "outputs": [
        {
          "data": {
            "text/plain": [
              "True"
            ]
          },
          "execution_count": 3,
          "metadata": {},
          "output_type": "execute_result"
        }
      ],
      "source": [
        "test_str = \"test\"\n",
        "test_str == \"test\"  # can also compare strings"
      ]
    },
    {
      "cell_type": "markdown",
      "metadata": {
        "id": "dqjZsn417QJ5"
      },
      "source": [
        "### If-Else\n",
        "\n"
      ]
    },
    {
      "cell_type": "code",
      "execution_count": null,
      "metadata": {
        "execution": {
          "iopub.execute_input": "2025-01-02T09:30:52.494231Z",
          "iopub.status.busy": "2025-01-02T09:30:52.494231Z",
          "iopub.status.idle": "2025-01-02T09:30:52.497897Z",
          "shell.execute_reply": "2025-01-02T09:30:52.497897Z"
        },
        "id": "POEVV_T_7QJ5"
      },
      "outputs": [],
      "source": [
        "sum_ = 0\n"
      ]
    },
    {
      "cell_type": "code",
      "execution_count": null,
      "metadata": {
        "execution": {
          "iopub.execute_input": "2025-01-02T09:30:52.497897Z",
          "iopub.status.busy": "2025-01-02T09:30:52.497897Z",
          "iopub.status.idle": "2025-01-02T09:30:52.502373Z",
          "shell.execute_reply": "2025-01-02T09:30:52.502373Z"
        },
        "id": "2ppG7WCc7QJ6",
        "outputId": "667cfa64-f87e-4b22-86e5-33980f3f6ecf"
      },
      "outputs": [
        {
          "name": "stdout",
          "output_type": "stream",
          "text": [
            "sum_ is 0\n"
          ]
        }
      ],
      "source": [
        "if sum_ == 0:\n",
        "    print(\"sum_ is 0\")\n",
        "elif sum_ < 0:\n",
        "    print(\"sum_ is less than 0\")\n",
        "else:\n",
        "    print(\"sum_ is above 0 and its value is \" + str(sum_))  # Cast sum_ into string type.\n"
      ]
    },
    {
      "cell_type": "markdown",
      "metadata": {
        "id": "H7U7A0SX7QJ7"
      },
      "source": [
        "Comparing strings are similar\n",
        "\n"
      ]
    },
    {
      "cell_type": "code",
      "execution_count": null,
      "metadata": {
        "execution": {
          "iopub.execute_input": "2025-01-02T09:30:52.502373Z",
          "iopub.status.busy": "2025-01-02T09:30:52.502373Z",
          "iopub.status.idle": "2025-01-02T09:30:52.505828Z",
          "shell.execute_reply": "2025-01-02T09:30:52.505828Z"
        },
        "id": "Vs_sqHyu7QJ7"
      },
      "outputs": [],
      "source": [
        "store_name = \"Walmart\"\n"
      ]
    },
    {
      "cell_type": "code",
      "execution_count": null,
      "metadata": {
        "execution": {
          "iopub.execute_input": "2025-01-02T09:30:52.505828Z",
          "iopub.status.busy": "2025-01-02T09:30:52.505828Z",
          "iopub.status.idle": "2025-01-02T09:30:52.509551Z",
          "shell.execute_reply": "2025-01-02T09:30:52.509551Z"
        },
        "id": "v3u-J0Np7QJ8",
        "outputId": "de391b66-4dbe-49c6-e6ed-646e4f5e0f65"
      },
      "outputs": [
        {
          "name": "stdout",
          "output_type": "stream",
          "text": [
            "The store is not Walmart. It's Walmart.\n"
          ]
        }
      ],
      "source": [
        "if \"Wal\" in store_name:\n",
        "    print(\"The store is not Walmart. It's \" + store_name + \".\")\n",
        "else:\n",
        "    print(\"The store is Walmart.\")\n"
      ]
    },
    {
      "cell_type": "markdown",
      "metadata": {
        "id": "yY6PP_gP7QJ9"
      },
      "source": [
        "### For loop\n",
        "\n"
      ]
    },
    {
      "cell_type": "code",
      "execution_count": null,
      "metadata": {
        "execution": {
          "iopub.execute_input": "2025-01-02T09:30:52.509551Z",
          "iopub.status.busy": "2025-01-02T09:30:52.509551Z",
          "iopub.status.idle": "2025-01-02T09:30:52.513360Z",
          "shell.execute_reply": "2025-01-02T09:30:52.513360Z"
        },
        "id": "G55-CGLM7QJ9",
        "outputId": "20b25f23-4788-48d6-c039-5eadf11fc446"
      },
      "outputs": [
        {
          "name": "stdout",
          "output_type": "stream",
          "text": [
            "W\n",
            "a\n",
            "l\n",
            "m\n",
            "a\n",
            "r\n",
            "t\n"
          ]
        }
      ],
      "source": [
        "for letter in store_name:\n",
        "    print(letter)\n"
      ]
    },
    {
      "cell_type": "markdown",
      "metadata": {
        "id": "Ycq5eT5P7QJ9"
      },
      "source": [
        "`range()` is a function to create integer sequences:\n",
        "\n"
      ]
    },
    {
      "cell_type": "code",
      "execution_count": null,
      "metadata": {
        "execution": {
          "iopub.execute_input": "2025-01-02T09:30:52.513360Z",
          "iopub.status.busy": "2025-01-02T09:30:52.513360Z",
          "iopub.status.idle": "2025-01-02T09:30:52.517372Z",
          "shell.execute_reply": "2025-01-02T09:30:52.517372Z"
        },
        "id": "58bvfBa07QJ-",
        "outputId": "2700f923-f6e9-491b-ebd5-1521eba66aea"
      },
      "outputs": [
        {
          "name": "stdout",
          "output_type": "stream",
          "text": [
            "range(0, 5)\n",
            "range(5) gives[0, 1, 2, 3, 4]\n",
            "range(1,9) gives: [1, 2, 3, 4, 5, 6, 7, 8]\n"
          ]
        }
      ],
      "source": [
        "a_range = range(5)\n",
        "print(a_range)\n",
        "print(\"range(5) gives\" + str(list(range(5))))  # By default starts from 0\n",
        "print(\"range(1,9) gives: \" + str(list(range(1, 9))))  # From 1 to 8 (Again the end index is exclusive.)\n"
      ]
    },
    {
      "cell_type": "code",
      "execution_count": null,
      "metadata": {
        "execution": {
          "iopub.execute_input": "2025-01-02T09:30:52.517372Z",
          "iopub.status.busy": "2025-01-02T09:30:52.517372Z",
          "iopub.status.idle": "2025-01-02T09:30:52.521126Z",
          "shell.execute_reply": "2025-01-02T09:30:52.521126Z"
        },
        "id": "8B_4W2vS7QJ-",
        "outputId": "bb45cdb1-510c-44a1-d43f-84b455adab4b"
      },
      "outputs": [
        {
          "name": "stdout",
          "output_type": "stream",
          "text": [
            "The 0th letter in store_name is: W\n",
            "The 1th letter in store_name is: a\n",
            "The 2th letter in store_name is: l\n",
            "The 3th letter in store_name is: m\n",
            "The 4th letter in store_name is: a\n",
            "The 5th letter in store_name is: r\n",
            "The 6th letter in store_name is: t\n"
          ]
        }
      ],
      "source": [
        "for index in range(len(store_name)):  # length of a sequence\n",
        "    print(\"The %ith letter in store_name is: %s\" % (index, store_name[index]))\n"
      ]
    },
    {
      "cell_type": "markdown",
      "metadata": {
        "id": "iq06tRFf7QJ_"
      },
      "source": [
        "#### List comprehensions\n",
        "List comprehensions provides an easy way to create lists:\n",
        "\n"
      ]
    },
    {
      "cell_type": "code",
      "execution_count": null,
      "metadata": {
        "execution": {
          "iopub.execute_input": "2025-01-02T09:30:52.521126Z",
          "iopub.status.busy": "2025-01-02T09:30:52.521126Z",
          "iopub.status.idle": "2025-01-02T09:30:52.524635Z",
          "shell.execute_reply": "2025-01-02T09:30:52.524635Z"
        },
        "id": "wBOYrzw67QKD",
        "outputId": "3b51fc0c-08df-4ba7-ada4-b3b10e3ff93b"
      },
      "outputs": [
        {
          "name": "stdout",
          "output_type": "stream",
          "text": [
            "[0, 1, 2, 3, 4, 5, 6, 7, 8, 9]\n"
          ]
        }
      ],
      "source": [
        "x = [i for i in range(10)]\n",
        "print(x)\n"
      ]
    },
    {
      "cell_type": "markdown",
      "metadata": {
        "id": "CbtN-pie7QKD"
      },
      "source": [
        "a lot of cool things can be done in one line!\n",
        "\n"
      ]
    },
    {
      "cell_type": "code",
      "execution_count": null,
      "metadata": {
        "execution": {
          "iopub.execute_input": "2025-01-02T09:30:52.524635Z",
          "iopub.status.busy": "2025-01-02T09:30:52.524635Z",
          "iopub.status.idle": "2025-01-02T09:30:52.528768Z",
          "shell.execute_reply": "2025-01-02T09:30:52.528768Z"
        },
        "id": "cbcUoiNf7QKE",
        "outputId": "e4ad4a7a-4749-40e4-b55c-9fa5f3a5895a"
      },
      "outputs": [
        {
          "name": "stdout",
          "output_type": "stream",
          "text": [
            "[2, 3, 4, 5, 6, 7, 8, 9, 10, 11]\n",
            "[0, 4, 16, 36, 64]\n"
          ]
        }
      ],
      "source": [
        "x = [i + 2 for i in range(10)]\n",
        "print(x)\n",
        "\n",
        "x = [i**2 for i in range(10) if i % 2 == 0]\n",
        "print(x)\n"
      ]
    },
    {
      "cell_type": "markdown",
      "metadata": {
        "id": "z_pVmNmH7QKE"
      },
      "source": [
        "### While loop\n",
        "\n"
      ]
    },
    {
      "cell_type": "code",
      "execution_count": null,
      "metadata": {
        "execution": {
          "iopub.execute_input": "2025-01-02T09:30:52.528768Z",
          "iopub.status.busy": "2025-01-02T09:30:52.528768Z",
          "iopub.status.idle": "2025-01-02T09:30:52.532226Z",
          "shell.execute_reply": "2025-01-02T09:30:52.532226Z"
        },
        "id": "ra8OtxoX7QKE"
      },
      "outputs": [],
      "source": [
        "x = 2\n"
      ]
    },
    {
      "cell_type": "code",
      "execution_count": null,
      "metadata": {
        "execution": {
          "iopub.execute_input": "2025-01-02T09:30:52.532226Z",
          "iopub.status.busy": "2025-01-02T09:30:52.532226Z",
          "iopub.status.idle": "2025-01-02T09:30:52.536269Z",
          "shell.execute_reply": "2025-01-02T09:30:52.535801Z"
        },
        "id": "tbGXy-f07QKF",
        "outputId": "6a36dad8-c935-49d2-e066-69c6424bf152"
      },
      "outputs": [
        {
          "name": "stdout",
          "output_type": "stream",
          "text": [
            "2\n",
            "3\n",
            "4\n",
            "5\n",
            "6\n",
            "7\n",
            "8\n",
            "9\n"
          ]
        }
      ],
      "source": [
        "while x < 10:\n",
        "    print(x)\n",
        "    x = x + 1\n"
      ]
    },
    {
      "cell_type": "markdown",
      "metadata": {
        "id": "clz4p-qj7QKF"
      },
      "source": [
        "#### Notes on `break` and `continue`\n",
        "`break` means get out of the loop immediately. Any code after the `break` will NOT be executed.\n",
        "\n"
      ]
    },
    {
      "cell_type": "code",
      "execution_count": null,
      "metadata": {
        "execution": {
          "iopub.execute_input": "2025-01-02T09:30:52.536587Z",
          "iopub.status.busy": "2025-01-02T09:30:52.536587Z",
          "iopub.status.idle": "2025-01-02T09:30:52.539613Z",
          "shell.execute_reply": "2025-01-02T09:30:52.539613Z"
        },
        "id": "LxL_s84N7QKF"
      },
      "outputs": [],
      "source": [
        "store_name = \"Walmart\"\n"
      ]
    },
    {
      "cell_type": "code",
      "execution_count": null,
      "metadata": {
        "execution": {
          "iopub.execute_input": "2025-01-02T09:30:52.540709Z",
          "iopub.status.busy": "2025-01-02T09:30:52.540709Z",
          "iopub.status.idle": "2025-01-02T09:30:52.543780Z",
          "shell.execute_reply": "2025-01-02T09:30:52.543780Z"
        },
        "id": "XgFpIVUd7QKG",
        "outputId": "a7c4849f-c15b-4e13-ed70-253cb09f888b"
      },
      "outputs": [
        {
          "name": "stdout",
          "output_type": "stream",
          "text": [
            "W\n",
            "End at a\n"
          ]
        }
      ],
      "source": [
        "index = 0\n",
        "while True:\n",
        "    print(store_name[index])\n",
        "    index += 1  # a += b means a = a + b\n",
        "    if store_name[index] == \"a\":\n",
        "        print(\"End at a\")\n",
        "        break  # instead of setting flag to False, we can directly break out of the loop\n",
        "        print(\"Hello!\")  # This will NOT be run\n"
      ]
    },
    {
      "cell_type": "markdown",
      "metadata": {
        "id": "Gda1JKJ_7QKG"
      },
      "source": [
        "`continue` means get to the next iteration of loop. It will __break__ the current iteration and __continue__ to the next.\n",
        "\n"
      ]
    },
    {
      "cell_type": "code",
      "execution_count": null,
      "metadata": {
        "execution": {
          "iopub.execute_input": "2025-01-02T09:30:52.545487Z",
          "iopub.status.busy": "2025-01-02T09:30:52.545487Z",
          "iopub.status.idle": "2025-01-02T09:30:52.547672Z",
          "shell.execute_reply": "2025-01-02T09:30:52.547672Z"
        },
        "id": "IT-M2ONx7QKG",
        "outputId": "5b4b2261-2cee-4a77-90d6-48cacd78a205"
      },
      "outputs": [
        {
          "name": "stdout",
          "output_type": "stream",
          "text": [
            "W\n",
            "l\n",
            "m\n",
            "r\n",
            "t\n"
          ]
        }
      ],
      "source": [
        "for letter in store_name:\n",
        "    if letter == \"a\":\n",
        "        continue  # Not printing a\n",
        "    else:\n",
        "        print(letter)\n"
      ]
    },
    {
      "cell_type": "markdown",
      "metadata": {
        "id": "6U-aQ5cO7QKH"
      },
      "source": [
        "## Functions\n",
        "Structure of a function\n",
        "```python\n",
        "def func_name(arg1, arg2, arg3, ...):\n",
        "    #####################\n",
        "    # Do something here #\n",
        "    #####################\n",
        "    return output\n",
        "```\n",
        "\n",
        "return output` is **NOT** required\n",
        "### One input one output\n",
        "\n"
      ]
    },
    {
      "cell_type": "code",
      "execution_count": null,
      "metadata": {
        "execution": {
          "iopub.execute_input": "2025-01-02T09:30:52.548774Z",
          "iopub.status.busy": "2025-01-02T09:30:52.548774Z",
          "iopub.status.idle": "2025-01-02T09:30:52.551389Z",
          "shell.execute_reply": "2025-01-02T09:30:52.551389Z"
        },
        "id": "Dl0cTTRF7QKH"
      },
      "outputs": [],
      "source": [
        "def F(n):  # bonus- what does this function do?\n",
        "    if n < 0:\n",
        "        print(\"Incorrect input\")\n",
        "    elif n == 0:\n",
        "        return 0\n",
        "    elif n == 1:\n",
        "        return 1\n",
        "    else:\n",
        "        return F(n - 1) + F(n - 2)\n"
      ]
    },
    {
      "cell_type": "code",
      "execution_count": null,
      "metadata": {
        "execution": {
          "iopub.execute_input": "2025-01-02T09:30:52.552483Z",
          "iopub.status.busy": "2025-01-02T09:30:52.552483Z",
          "iopub.status.idle": "2025-01-02T09:30:52.555108Z",
          "shell.execute_reply": "2025-01-02T09:30:52.555108Z"
        },
        "id": "q6GAaFYK7QKH",
        "outputId": "db28edd6-a8c9-4c17-91a3-73601f053fe8"
      },
      "outputs": [
        {
          "name": "stdout",
          "output_type": "stream",
          "text": [
            "1\n",
            "2\n",
            "5\n",
            "13\n"
          ]
        }
      ],
      "source": [
        "print(F(2))\n",
        "\n",
        "print(F(3))\n",
        "\n",
        "print(F(5))\n",
        "\n",
        "print(F(7))\n"
      ]
    },
    {
      "cell_type": "markdown",
      "metadata": {
        "id": "4YauqJS87QKI"
      },
      "source": [
        "### Multiple outputs\n",
        "reference- geometric sequence equations:\n",
        "\n",
        "$a_n = a_1 \\cdot q^{n-1}$\n",
        "\n",
        "$S_n = \\frac{a_1\\cdot(q^n-1)}{q-1}$\n",
        "\n"
      ]
    },
    {
      "cell_type": "code",
      "execution_count": null,
      "metadata": {
        "execution": {
          "iopub.execute_input": "2025-01-02T09:30:52.557061Z",
          "iopub.status.busy": "2025-01-02T09:30:52.555954Z",
          "iopub.status.idle": "2025-01-02T09:30:52.559076Z",
          "shell.execute_reply": "2025-01-02T09:30:52.559076Z"
        },
        "id": "weSBYp-K7QKI"
      },
      "outputs": [],
      "source": [
        "def geo_seq(a_1, q, n):\n",
        "    a_n = a_1 * (q ** (n - 1))\n",
        "    S_n = (a_1 * (q**n - 1)) / (q - 1)\n",
        "    return a_n, S_n\n"
      ]
    },
    {
      "cell_type": "code",
      "execution_count": null,
      "metadata": {
        "execution": {
          "iopub.execute_input": "2025-01-02T09:30:52.560761Z",
          "iopub.status.busy": "2025-01-02T09:30:52.560761Z",
          "iopub.status.idle": "2025-01-02T09:30:52.562908Z",
          "shell.execute_reply": "2025-01-02T09:30:52.562908Z"
        },
        "id": "NylUCjj47QKJ",
        "outputId": "394f7ec9-396e-463d-ef73-dbb621b653b6"
      },
      "outputs": [
        {
          "name": "stdout",
          "output_type": "stream",
          "text": [
            "(2, 2.0)\n",
            "(4, 6.0)\n",
            "(4, 6.0)\n",
            "14.0\n"
          ]
        }
      ],
      "source": [
        "print(geo_seq(2, 2, 1))  # multiple outputs returns as a tuple\n",
        "\n",
        "print(geo_seq(2, 2, 2))\n",
        "\n",
        "print(geo_seq(2, 2, 2))\n",
        "\n",
        "print(geo_seq(2, 2, 3)[1])  # get only second element\n"
      ]
    },
    {
      "cell_type": "markdown",
      "metadata": {
        "id": "OrtCxqWw7QKJ"
      },
      "source": [
        "### optional args\n",
        "\n"
      ]
    },
    {
      "cell_type": "code",
      "execution_count": null,
      "metadata": {
        "execution": {
          "iopub.execute_input": "2025-01-02T09:30:52.564012Z",
          "iopub.status.busy": "2025-01-02T09:30:52.564012Z",
          "iopub.status.idle": "2025-01-02T09:30:52.567005Z",
          "shell.execute_reply": "2025-01-02T09:30:52.567005Z"
        },
        "id": "uygWk0CX7QKJ"
      },
      "outputs": [],
      "source": [
        "def geo_seq_optional_args(a_1, q=2, n=1):\n",
        "    a_n = a_1 * (q ** (n - 1))\n",
        "    S_n = (a_1 * (q**n - 1)) / (q - 1)\n",
        "    return a_n, S_n\n"
      ]
    },
    {
      "cell_type": "code",
      "execution_count": null,
      "metadata": {
        "execution": {
          "iopub.execute_input": "2025-01-02T09:30:52.568705Z",
          "iopub.status.busy": "2025-01-02T09:30:52.568705Z",
          "iopub.status.idle": "2025-01-02T09:30:52.570750Z",
          "shell.execute_reply": "2025-01-02T09:30:52.570750Z"
        },
        "id": "nGOy69dX7QKJ",
        "outputId": "a7e10299-d375-4642-9d3a-fb91c4f4d8e0"
      },
      "outputs": [
        {
          "name": "stdout",
          "output_type": "stream",
          "text": [
            "(2, 2.0)\n",
            "(4, 6.0)\n"
          ]
        }
      ],
      "source": [
        "print(geo_seq_optional_args(2))\n",
        "\n",
        "print(geo_seq_optional_args(2, n=2))\n"
      ]
    },
    {
      "cell_type": "markdown",
      "metadata": {
        "id": "oG9iP_AX7QKK"
      },
      "source": [
        "## Classes\n",
        "As been said before- Python is object oriented programing (OOP) language, so every variable is actually an instance of some class.\n",
        "\n",
        "Here are some class basics:\n",
        "\n"
      ]
    },
    {
      "cell_type": "code",
      "execution_count": null,
      "metadata": {
        "execution": {
          "iopub.execute_input": "2025-01-02T09:30:52.571857Z",
          "iopub.status.busy": "2025-01-02T09:30:52.571857Z",
          "iopub.status.idle": "2025-01-02T09:30:52.574905Z",
          "shell.execute_reply": "2025-01-02T09:30:52.574905Z"
        },
        "id": "7vuJ3W6i7QKK"
      },
      "outputs": [],
      "source": [
        "class Employee:\n",
        "    # the function that is being called each time a new instance is created\n",
        "    def __init__(self, name=\"Jhon\", salary=10000):\n",
        "        # per instance variables\n",
        "        self.name = name\n",
        "        self.salary = salary\n",
        "\n",
        "    def display_employee(self):\n",
        "        print(\"Name : \" + self.name + \", Salary: \" + str(self.salary))\n",
        "\n",
        "    def change_salary(self, new_salary):\n",
        "        self.salary = new_salary\n"
      ]
    },
    {
      "cell_type": "code",
      "execution_count": null,
      "metadata": {
        "execution": {
          "iopub.execute_input": "2025-01-02T09:30:52.574905Z",
          "iopub.status.busy": "2025-01-02T09:30:52.574905Z",
          "iopub.status.idle": "2025-01-02T09:30:52.578894Z",
          "shell.execute_reply": "2025-01-02T09:30:52.578894Z"
        },
        "id": "RprcWET47QKL",
        "outputId": "30acc561-ad09-407f-844b-7ff72593c827"
      },
      "outputs": [
        {
          "name": "stdout",
          "output_type": "stream",
          "text": [
            "Name : Jhon, Salary: 10000\n",
            "Name : Bob, Salary: 20000\n",
            "Name : Bob, Salary: 30000\n",
            "Name : Larry, Salary: 30000\n"
          ]
        }
      ],
      "source": [
        "emp1 = Employee()  # create new instance\n",
        "emp1.display_employee()\n",
        "\n",
        "emp2 = Employee(\"Bob\", salary=20000)  # create new instance\n",
        "emp2.display_employee()\n",
        "\n",
        "emp2.change_salary(30000)\n",
        "emp2.display_employee()\n",
        "\n",
        "# instance variables are also accessible - no such thing private/public vars\n",
        "emp2.name = \"Larry\"\n",
        "emp2.display_employee()\n"
      ]
    },
    {
      "cell_type": "markdown",
      "metadata": {
        "id": "zAaSyC107QKZ"
      },
      "source": [
        "## FIle I/O\n",
        "This section is about some basics on reading and writing data, in Python native style\n",
        "### Write data to a file\n",
        "\n"
      ]
    },
    {
      "cell_type": "code",
      "execution_count": null,
      "metadata": {
        "execution": {
          "iopub.execute_input": "2025-01-02T09:30:52.578894Z",
          "iopub.status.busy": "2025-01-02T09:30:52.578894Z",
          "iopub.status.idle": "2025-01-02T09:30:52.582873Z",
          "shell.execute_reply": "2025-01-02T09:30:52.582873Z"
        },
        "id": "G1K_O18o7QKc"
      },
      "outputs": [],
      "source": [
        "f = open(\"tmp1.csv\", \"w\")  # f is a file handler, while \"w\" is the mode (w for write)\n",
        "for item in range(6):\n",
        "    f.write(str(item) + \"\\n\")\n",
        "f.close()  # close the filer handler for security reasons.\n"
      ]
    },
    {
      "cell_type": "markdown",
      "metadata": {
        "id": "v0aAbl7W7QKc"
      },
      "source": [
        "*Note that without the typecasting from `int` to `str`, an error will be raised.*\n",
        "A more commonly used way:\n",
        "\n"
      ]
    },
    {
      "cell_type": "code",
      "execution_count": null,
      "metadata": {
        "execution": {
          "iopub.execute_input": "2025-01-02T09:30:52.582873Z",
          "iopub.status.busy": "2025-01-02T09:30:52.582873Z",
          "iopub.status.idle": "2025-01-02T09:30:52.587561Z",
          "shell.execute_reply": "2025-01-02T09:30:52.587561Z"
        },
        "id": "onlm6zpt7QKc"
      },
      "outputs": [],
      "source": [
        "with open(\"tmp2.csv\", \"w\") as f:\n",
        "    for item in range(4):\n",
        "        f.write(str(item))\n",
        "        f.write(\"\\n\")\n",
        "# no need to close file, when out of 'with' scope the file closes automatically\n"
      ]
    },
    {
      "cell_type": "markdown",
      "metadata": {
        "id": "k4iUO-GL7QKd"
      },
      "source": [
        "Occasionally, we need to _append new elements_ instead of _overwriting_ existing files. In this case, we should use `a` mode in our `open` function:\n",
        "\n"
      ]
    },
    {
      "cell_type": "code",
      "execution_count": null,
      "metadata": {
        "execution": {
          "iopub.execute_input": "2025-01-02T09:30:52.588587Z",
          "iopub.status.busy": "2025-01-02T09:30:52.588587Z",
          "iopub.status.idle": "2025-01-02T09:30:52.592063Z",
          "shell.execute_reply": "2025-01-02T09:30:52.592063Z"
        },
        "id": "kRQeaVMa7QKd"
      },
      "outputs": [],
      "source": [
        "with open(\"tmp2.csv\", \"a\") as f:  # 'a' == append to end of file\n",
        "    for item in range(15, 19):\n",
        "        f.write(str(item) + \"\\n\")\n"
      ]
    },
    {
      "cell_type": "markdown",
      "metadata": {
        "id": "MNSCBbkS7QKe"
      },
      "source": [
        "### Read data to a file\n",
        "To read a text file into Python, we use `r` mode (for _read_)\n",
        "\n"
      ]
    },
    {
      "cell_type": "code",
      "execution_count": null,
      "metadata": {
        "execution": {
          "iopub.execute_input": "2025-01-02T09:30:52.592063Z",
          "iopub.status.busy": "2025-01-02T09:30:52.592063Z",
          "iopub.status.idle": "2025-01-02T09:30:52.597392Z",
          "shell.execute_reply": "2025-01-02T09:30:52.597392Z"
        },
        "id": "S3Uszsnn7QKe",
        "outputId": "8598aad6-d524-4703-c853-dc76886cdd65"
      },
      "outputs": [
        {
          "name": "stdout",
          "output_type": "stream",
          "text": [
            "['0', '1', '2', '3', '4', '5']\n"
          ]
        }
      ],
      "source": [
        "f = open(\"tmp1.csv\", \"r\")  # this time, use read mode\n",
        "contents = [\n",
        "    item.strip(\"\\n\") for item in f\n",
        "]  # list comprehension. This is the same as for-loop but more concise + stripping newline\n",
        "print(contents)\n",
        "f.close()\n"
      ]
    },
    {
      "cell_type": "markdown",
      "metadata": {
        "id": "OMKpwEOt7QKf"
      },
      "source": [
        "Also using `with`:\n",
        "\n"
      ]
    },
    {
      "cell_type": "code",
      "execution_count": null,
      "metadata": {
        "execution": {
          "iopub.execute_input": "2025-01-02T09:30:52.597392Z",
          "iopub.status.busy": "2025-01-02T09:30:52.597392Z",
          "iopub.status.idle": "2025-01-02T09:30:52.601830Z",
          "shell.execute_reply": "2025-01-02T09:30:52.601830Z"
        },
        "id": "hS-ovlVo7QKf",
        "outputId": "fe1d11fc-c328-4fe3-b74f-be9c5c267bd0"
      },
      "outputs": [
        {
          "name": "stdout",
          "output_type": "stream",
          "text": [
            "['0\\n', '1\\n', '2\\n', '3\\n', '15\\n', '16\\n', '17\\n', '18\\n']\n"
          ]
        }
      ],
      "source": [
        "with open(\"tmp2.csv\", \"r\") as f:\n",
        "    print(f.readlines())\n"
      ]
    },
    {
      "cell_type": "code",
      "execution_count": null,
      "metadata": {
        "execution": {
          "iopub.execute_input": "2025-01-02T09:30:52.601830Z",
          "iopub.status.busy": "2025-01-02T09:30:52.601830Z",
          "iopub.status.idle": "2025-01-02T09:30:52.619433Z",
          "shell.execute_reply": "2025-01-02T09:30:52.619433Z"
        },
        "id": "YOSlNwV97QKf"
      },
      "outputs": [],
      "source": [
        "# delete the files...\n",
        "import os\n",
        "\n",
        "os.remove(\"tmp1.csv\")\n",
        "os.remove(\"tmp2.csv\")\n"
      ]
    },
    {
      "cell_type": "markdown",
      "metadata": {
        "id": "5vXyW3Lx7QKg"
      },
      "source": [
        "## Packages\n",
        "Often times, we need either internal or external help for complicated computation tasks. In these occasions, we need to _import packages_.\n",
        "### Built-in packages\n",
        "Python provides many built-in packages to prevent extra work on some common and useful functions\n",
        "\n",
        "We will use __math__ as an example.\n",
        "\n"
      ]
    },
    {
      "cell_type": "code",
      "execution_count": null,
      "metadata": {
        "execution": {
          "iopub.execute_input": "2025-01-02T09:30:52.619433Z",
          "iopub.status.busy": "2025-01-02T09:30:52.619433Z",
          "iopub.status.idle": "2025-01-02T09:30:52.622946Z",
          "shell.execute_reply": "2025-01-02T09:30:52.622946Z"
        },
        "id": "trjs0KHI7QKg"
      },
      "outputs": [],
      "source": [
        "import math  # use import to load a library\n"
      ]
    },
    {
      "cell_type": "markdown",
      "metadata": {
        "id": "jBxXm1Vw7QKh"
      },
      "source": [
        "To use functions from the library, do: `library_name.function_name`. For example, when we want to calculate the logarithm using a function from `math` library, we can do `math.log`\n",
        "\n"
      ]
    },
    {
      "cell_type": "code",
      "execution_count": null,
      "metadata": {
        "execution": {
          "iopub.execute_input": "2025-01-02T09:30:52.622946Z",
          "iopub.status.busy": "2025-01-02T09:30:52.622946Z",
          "iopub.status.idle": "2025-01-02T09:30:52.626908Z",
          "shell.execute_reply": "2025-01-02T09:30:52.626908Z"
        },
        "id": "OTdbiefZ7QKh",
        "outputId": "b27811dd-b808-46cc-e108-415c1115e666"
      },
      "outputs": [
        {
          "name": "stdout",
          "output_type": "stream",
          "text": [
            "e^x = e^3 = 20.085537\n",
            "log(x) = log(3) = 1.098612\n"
          ]
        }
      ],
      "source": [
        "x = 3\n",
        "print(\"e^x = e^3 = %f\" % math.exp(x))\n",
        "print(\"log(x) = log(3) = %f\" % math.log(x))\n"
      ]
    },
    {
      "cell_type": "markdown",
      "metadata": {
        "id": "qdpWBs1l7QKi"
      },
      "source": [
        "You can also import one specific function:\n",
        "\n"
      ]
    },
    {
      "cell_type": "code",
      "execution_count": null,
      "metadata": {
        "execution": {
          "iopub.execute_input": "2025-01-02T09:30:52.626908Z",
          "iopub.status.busy": "2025-01-02T09:30:52.626908Z",
          "iopub.status.idle": "2025-01-02T09:30:52.630810Z",
          "shell.execute_reply": "2025-01-02T09:30:52.630810Z"
        },
        "id": "Tfnr_imQ7QKi",
        "outputId": "e99df977-40aa-4356-dd50-1fd2a152e472"
      },
      "outputs": [
        {
          "name": "stdout",
          "output_type": "stream",
          "text": [
            "20.085536923187668\n"
          ]
        }
      ],
      "source": [
        "from math import exp  # You can import a specific function\n",
        "\n",
        "print(exp(x))  # This way, you don't need to use math.exp but just exp\n"
      ]
    },
    {
      "cell_type": "markdown",
      "metadata": {
        "id": "QsPAxEsK7QKi"
      },
      "source": [
        "Or all:\n",
        "\n"
      ]
    },
    {
      "cell_type": "code",
      "execution_count": null,
      "metadata": {
        "execution": {
          "iopub.execute_input": "2025-01-02T09:30:52.630810Z",
          "iopub.status.busy": "2025-01-02T09:30:52.630810Z",
          "iopub.status.idle": "2025-01-02T09:30:52.634642Z",
          "shell.execute_reply": "2025-01-02T09:30:52.634642Z"
        },
        "id": "7pZ1Ah2c7QKj"
      },
      "outputs": [],
      "source": [
        "from math import *  # Import all functions - not recommended do to overriding of functions\n"
      ]
    },
    {
      "cell_type": "code",
      "execution_count": null,
      "metadata": {
        "execution": {
          "iopub.execute_input": "2025-01-02T09:30:52.634642Z",
          "iopub.status.busy": "2025-01-02T09:30:52.634642Z",
          "iopub.status.idle": "2025-01-02T09:30:52.638304Z",
          "shell.execute_reply": "2025-01-02T09:30:52.638304Z"
        },
        "id": "D6DXodzn7QKj",
        "outputId": "84a8b288-ae96-4bd6-ad76-35698f109e85"
      },
      "outputs": [
        {
          "name": "stdout",
          "output_type": "stream",
          "text": [
            "20.085536923187668\n",
            "1.0986122886681098\n"
          ]
        }
      ],
      "source": [
        "print(exp(x))\n",
        "print(log(x))  # Before importing math, calling `exp` or `log` will raise errors\n"
      ]
    },
    {
      "cell_type": "markdown",
      "metadata": {
        "id": "lO9HOEZn7QKk"
      },
      "source": [
        "You can import a package with a shortened name:\n",
        "\n"
      ]
    },
    {
      "cell_type": "code",
      "execution_count": null,
      "metadata": {
        "execution": {
          "iopub.execute_input": "2025-01-02T09:30:52.639510Z",
          "iopub.status.busy": "2025-01-02T09:30:52.639510Z",
          "iopub.status.idle": "2025-01-02T09:30:52.642690Z",
          "shell.execute_reply": "2025-01-02T09:30:52.642690Z"
        },
        "id": "hmBzgBhX7QKk",
        "outputId": "95d7e22a-68af-454a-af34-065e27f6519e"
      },
      "outputs": [
        {
          "data": {
            "text/plain": [
              "20.085536923187668"
            ]
          },
          "execution_count": 37,
          "metadata": {},
          "output_type": "execute_result"
        }
      ],
      "source": [
        "import math as m\n",
        "\n",
        "m.exp(3)\n"
      ]
    },
    {
      "cell_type": "markdown",
      "metadata": {
        "id": "tm8uuy6e7QKk"
      },
      "source": [
        "Depending on what you want to achieve, you may want to choose between importing a few or all (by `*`) functions within a package.\n",
        "### External Packages\n",
        "There are times you'll want some advanced utility functions not provided by Python. There are many useful packages by developers.\n",
        "\n",
        "We'll use __numpy__ as an example. (__numpy__, __scipy__, __matplotlib__,and probably __pandas__ will be of the most importance to you for data analyses.\n",
        "\n",
        "Installation of packages for Python is the easiest using <a href=\"https://packaging.python.org/installing/\" target=\"_blank\">pip</a>:\n",
        "```bash\n",
        "~$ pip install numpy\n",
        "```\n",
        "We'll see use for external packages later on.\n",
        "\n"
      ]
    }
  ],
  "metadata": {
    "language_info": {
      "codemirror_mode": {
        "name": "ipython",
        "version": 3
      },
      "file_extension": ".py",
      "mimetype": "text/x-python",
      "name": "python",
      "nbconvert_exporter": "python",
      "pygments_lexer": "ipython3",
      "version": "3.11.7"
    },
    "colab": {
      "provenance": []
    }
  },
  "nbformat": 4,
  "nbformat_minor": 0
}