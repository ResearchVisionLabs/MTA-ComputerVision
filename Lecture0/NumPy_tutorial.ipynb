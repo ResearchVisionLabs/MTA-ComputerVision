{
  "cells": [
    {
      "cell_type": "markdown",
      "metadata": {
        "id": "X2xf0w5V7Rpi"
      },
      "source": [
        "#Python Workshop: NumPy\n",
        "[![Open In Colab](https://colab.research.google.com/assets/colab-badge.svg)](https://colab.research.google.com/github/YoniChechik/AI_is_Math/blob/master/c_01_intro_to_CV_and_Python/NumPy_tutorial.ipynb)\n",
        "\n",
        "<hr>\n",
        "\n",
        "Based on:\n",
        "\n",
        "This [git](https://github.com/zhiyzuo/python-tutorial) of Zhiya Zuo\n",
        "\n",
        "<hr>\n",
        "\n",
        "NumPy is the fundamental package for scientific computing with Python. It contains among other things:\n",
        "\n",
        "- Powerful N-dimensional array object.\n",
        "- Useful linear algebra, Fourier transform, and random number capabilities.\n",
        "- And much more\n",
        "\n",
        "<img src=\"https://upload.wikimedia.org/wikipedia/commons/1/1a/NumPy_logo.svg\" alt=\"numpy logo\" width=\"200\"/>\n",
        "\n",
        "## NumPy installation\n",
        "\n",
        "in the cmd run:\n",
        "\n",
        "```bash\n",
        "pip install numpy\n",
        "```\n",
        "## Arrays\n",
        "\n"
      ]
    },
    {
      "cell_type": "code",
      "execution_count": null,
      "metadata": {
        "execution": {
          "iopub.execute_input": "2025-01-02T09:30:58.766854Z",
          "iopub.status.busy": "2025-01-02T09:30:58.766854Z",
          "iopub.status.idle": "2025-01-02T09:30:58.839995Z",
          "shell.execute_reply": "2025-01-02T09:30:58.839995Z"
        },
        "id": "s7Z8oXZt7Rpl"
      },
      "outputs": [],
      "source": [
        "# After you install numpy, load it\n",
        "import numpy as np  # you can use np instead of numpy to call the functions in numpy package\n"
      ]
    },
    {
      "cell_type": "code",
      "execution_count": null,
      "metadata": {
        "execution": {
          "iopub.execute_input": "2025-01-02T09:30:58.839995Z",
          "iopub.status.busy": "2025-01-02T09:30:58.839995Z",
          "iopub.status.idle": "2025-01-02T09:30:58.844981Z",
          "shell.execute_reply": "2025-01-02T09:30:58.844981Z"
        },
        "id": "XmghAdqv7RqD",
        "outputId": "a80e8e3b-016f-4d1e-93b6-a527cab892f9"
      },
      "outputs": [
        {
          "name": "stdout",
          "output_type": "stream",
          "text": [
            "<class 'numpy.ndarray'>\n"
          ]
        }
      ],
      "source": [
        "x = np.array([1, 2, 3])  # create a numpy array object\n",
        "print(type(x))\n"
      ]
    },
    {
      "cell_type": "markdown",
      "metadata": {
        "id": "3zLzY0-S7RqE"
      },
      "source": [
        "We can call `shape` function designed for `numpy.ndarray` class to check the dimension\n",
        "\n"
      ]
    },
    {
      "cell_type": "code",
      "execution_count": null,
      "metadata": {
        "execution": {
          "iopub.execute_input": "2025-01-02T09:30:58.861828Z",
          "iopub.status.busy": "2025-01-02T09:30:58.861828Z",
          "iopub.status.idle": "2025-01-02T09:30:58.871046Z",
          "shell.execute_reply": "2025-01-02T09:30:58.871046Z"
        },
        "id": "HhWEuGaK7RqF",
        "outputId": "e4a37c7d-2c4e-4036-af87-b8e18781709b"
      },
      "outputs": [
        {
          "data": {
            "text/plain": [
              "(3,)"
            ]
          },
          "execution_count": 3,
          "metadata": {},
          "output_type": "execute_result"
        }
      ],
      "source": [
        "x.shape  # can be compared to 'len()' function that is used with list size\n"
      ]
    },
    {
      "cell_type": "markdown",
      "metadata": {
        "id": "Hti6EYA-7RqG"
      },
      "source": [
        "Unlike `list`, we have to use one single data type for all elements in an array\n",
        "\n"
      ]
    },
    {
      "cell_type": "code",
      "execution_count": null,
      "metadata": {
        "execution": {
          "iopub.execute_input": "2025-01-02T09:30:58.871046Z",
          "iopub.status.busy": "2025-01-02T09:30:58.871046Z",
          "iopub.status.idle": "2025-01-02T09:30:58.876208Z",
          "shell.execute_reply": "2025-01-02T09:30:58.876208Z"
        },
        "id": "_QUjsJ_b7RqG",
        "outputId": "ff71cbb0-7a28-453e-ea8a-751af7f92b24"
      },
      "outputs": [
        {
          "data": {
            "text/plain": [
              "array(['1', 'yes'], dtype='<U11')"
            ]
          },
          "execution_count": 4,
          "metadata": {},
          "output_type": "execute_result"
        }
      ],
      "source": [
        "y = np.array([1, \"yes\"])  # automatic type conversion from int to str\n",
        "y\n"
      ]
    },
    {
      "cell_type": "markdown",
      "metadata": {
        "id": "NBO_Rb-F7RqH"
      },
      "source": [
        "### Multidimensional arrays\n",
        "\n"
      ]
    },
    {
      "cell_type": "code",
      "execution_count": null,
      "metadata": {
        "execution": {
          "iopub.execute_input": "2025-01-02T09:30:58.876208Z",
          "iopub.status.busy": "2025-01-02T09:30:58.876208Z",
          "iopub.status.idle": "2025-01-02T09:30:58.880350Z",
          "shell.execute_reply": "2025-01-02T09:30:58.880350Z"
        },
        "id": "FCgvmN_Y7RqI",
        "outputId": "1dd4b737-733d-4dc6-ebed-4c45181c6120"
      },
      "outputs": [
        {
          "data": {
            "text/plain": [
              "(1, 4)"
            ]
          },
          "execution_count": 5,
          "metadata": {},
          "output_type": "execute_result"
        }
      ],
      "source": [
        "arr = np.array([[1, 2, 3, 8]])\n",
        "arr.shape\n"
      ]
    },
    {
      "cell_type": "code",
      "execution_count": null,
      "metadata": {
        "execution": {
          "iopub.execute_input": "2025-01-02T09:30:58.880350Z",
          "iopub.status.busy": "2025-01-02T09:30:58.880350Z",
          "iopub.status.idle": "2025-01-02T09:30:58.884539Z",
          "shell.execute_reply": "2025-01-02T09:30:58.884539Z"
        },
        "id": "hxPUEwMD7RqJ",
        "outputId": "2bc90bc0-bf0b-4c1d-9de1-e1076d7b24c3"
      },
      "outputs": [
        {
          "data": {
            "text/plain": [
              "array([[1, 2, 3, 8]])"
            ]
          },
          "execution_count": 6,
          "metadata": {},
          "output_type": "execute_result"
        }
      ],
      "source": [
        "arr\n"
      ]
    },
    {
      "cell_type": "code",
      "execution_count": null,
      "metadata": {
        "execution": {
          "iopub.execute_input": "2025-01-02T09:30:58.884539Z",
          "iopub.status.busy": "2025-01-02T09:30:58.884539Z",
          "iopub.status.idle": "2025-01-02T09:30:58.888707Z",
          "shell.execute_reply": "2025-01-02T09:30:58.888707Z"
        },
        "id": "rRr4UIx-7RqK",
        "outputId": "6b0782cc-a7e8-44a8-c7f9-484bca56a2d0"
      },
      "outputs": [
        {
          "data": {
            "text/plain": [
              "(3, 4)"
            ]
          },
          "execution_count": 7,
          "metadata": {},
          "output_type": "execute_result"
        }
      ],
      "source": [
        "arr = np.array([[1, 2, 3, 8], [3, 2, 3, 2], [4, 5, 0, 8]])\n",
        "arr.shape\n"
      ]
    },
    {
      "cell_type": "code",
      "execution_count": null,
      "metadata": {
        "execution": {
          "iopub.execute_input": "2025-01-02T09:30:58.888707Z",
          "iopub.status.busy": "2025-01-02T09:30:58.888707Z",
          "iopub.status.idle": "2025-01-02T09:30:58.892927Z",
          "shell.execute_reply": "2025-01-02T09:30:58.892927Z"
        },
        "id": "5lxQOjiB7RqK",
        "outputId": "9af0424d-2ea5-453f-a65e-8a050a9bd5de"
      },
      "outputs": [
        {
          "data": {
            "text/plain": [
              "array([[1, 2, 3, 8],\n",
              "       [3, 2, 3, 2],\n",
              "       [4, 5, 0, 8]])"
            ]
          },
          "execution_count": 8,
          "metadata": {},
          "output_type": "execute_result"
        }
      ],
      "source": [
        "arr\n"
      ]
    },
    {
      "cell_type": "markdown",
      "metadata": {
        "id": "Z-tqwHhC7RqL"
      },
      "source": [
        "### Special arrays\n",
        "There are many special array initialization methods to call:\n",
        "\n"
      ]
    },
    {
      "cell_type": "code",
      "execution_count": null,
      "metadata": {
        "execution": {
          "iopub.execute_input": "2025-01-02T09:30:58.894735Z",
          "iopub.status.busy": "2025-01-02T09:30:58.894388Z",
          "iopub.status.idle": "2025-01-02T09:30:58.897216Z",
          "shell.execute_reply": "2025-01-02T09:30:58.897216Z"
        },
        "id": "h5kkHS9O7RqL",
        "outputId": "4f29e4ba-0399-4e0f-e6a3-a4be086deb3a"
      },
      "outputs": [
        {
          "data": {
            "text/plain": [
              "array([[0, 0, 0, 0, 0],\n",
              "       [0, 0, 0, 0, 0],\n",
              "       [0, 0, 0, 0, 0]])"
            ]
          },
          "execution_count": 9,
          "metadata": {},
          "output_type": "execute_result"
        }
      ],
      "source": [
        "np.zeros([3, 5], dtype=int)  # dtype can define the type of the array\n"
      ]
    },
    {
      "cell_type": "code",
      "execution_count": null,
      "metadata": {
        "execution": {
          "iopub.execute_input": "2025-01-02T09:30:58.897216Z",
          "iopub.status.busy": "2025-01-02T09:30:58.897216Z",
          "iopub.status.idle": "2025-01-02T09:30:58.902187Z",
          "shell.execute_reply": "2025-01-02T09:30:58.902187Z"
        },
        "id": "5Z7Wws9h7RqM",
        "outputId": "6cf3cc95-af71-4296-95c6-7a331e18a668"
      },
      "outputs": [
        {
          "data": {
            "text/plain": [
              "array([[1., 1., 1., 1., 1.],\n",
              "       [1., 1., 1., 1., 1.],\n",
              "       [1., 1., 1., 1., 1.]])"
            ]
          },
          "execution_count": 10,
          "metadata": {},
          "output_type": "execute_result"
        }
      ],
      "source": [
        "np.ones([3, 5])\n"
      ]
    },
    {
      "cell_type": "code",
      "execution_count": null,
      "metadata": {
        "execution": {
          "iopub.execute_input": "2025-01-02T09:30:58.902187Z",
          "iopub.status.busy": "2025-01-02T09:30:58.902187Z",
          "iopub.status.idle": "2025-01-02T09:30:58.906392Z",
          "shell.execute_reply": "2025-01-02T09:30:58.906392Z"
        },
        "id": "VEqBNMuI7RqM",
        "outputId": "a80bc141-6a20-4d73-da4a-3529dbdbcc23"
      },
      "outputs": [
        {
          "data": {
            "text/plain": [
              "array([[1., 0., 0.],\n",
              "       [0., 1., 0.],\n",
              "       [0., 0., 1.]])"
            ]
          },
          "execution_count": 11,
          "metadata": {},
          "output_type": "execute_result"
        }
      ],
      "source": [
        "np.eye(3)\n"
      ]
    },
    {
      "cell_type": "markdown",
      "metadata": {
        "id": "gLP4a2s27RqM"
      },
      "source": [
        "## Operations\n",
        "The rules are very similar to R/Matlab: they are generally element wise\n",
        "\n"
      ]
    },
    {
      "cell_type": "code",
      "execution_count": null,
      "metadata": {
        "execution": {
          "iopub.execute_input": "2025-01-02T09:30:58.908496Z",
          "iopub.status.busy": "2025-01-02T09:30:58.907498Z",
          "iopub.status.idle": "2025-01-02T09:30:58.910667Z",
          "shell.execute_reply": "2025-01-02T09:30:58.910667Z"
        },
        "id": "H3nJtsrA7RqN",
        "outputId": "7213035e-2bdc-4242-b365-1cfeaa2cfee9"
      },
      "outputs": [
        {
          "data": {
            "text/plain": [
              "array([[1, 2, 3, 8],\n",
              "       [3, 2, 3, 2],\n",
              "       [4, 5, 0, 8]])"
            ]
          },
          "execution_count": 12,
          "metadata": {},
          "output_type": "execute_result"
        }
      ],
      "source": [
        "arr\n"
      ]
    },
    {
      "cell_type": "code",
      "execution_count": null,
      "metadata": {
        "execution": {
          "iopub.execute_input": "2025-01-02T09:30:58.912772Z",
          "iopub.status.busy": "2025-01-02T09:30:58.911770Z",
          "iopub.status.idle": "2025-01-02T09:30:58.914962Z",
          "shell.execute_reply": "2025-01-02T09:30:58.914962Z"
        },
        "id": "bTOvhSwP7RqN",
        "outputId": "4a9e0032-a223-4878-8aa7-1851817a4d6b"
      },
      "outputs": [
        {
          "data": {
            "text/plain": [
              "array([[-4, -3, -2,  3],\n",
              "       [-2, -3, -2, -3],\n",
              "       [-1,  0, -5,  3]])"
            ]
          },
          "execution_count": 13,
          "metadata": {},
          "output_type": "execute_result"
        }
      ],
      "source": [
        "arr - 5\n"
      ]
    },
    {
      "cell_type": "code",
      "execution_count": null,
      "metadata": {
        "execution": {
          "iopub.execute_input": "2025-01-02T09:30:58.916056Z",
          "iopub.status.busy": "2025-01-02T09:30:58.916056Z",
          "iopub.status.idle": "2025-01-02T09:30:58.919176Z",
          "shell.execute_reply": "2025-01-02T09:30:58.919176Z"
        },
        "id": "2O6krPgD7RqN",
        "outputId": "e899b342-6aaf-4724-90db-75ff51068e19"
      },
      "outputs": [
        {
          "data": {
            "text/plain": [
              "array([[ 6, 12, 18, 48],\n",
              "       [18, 12, 18, 12],\n",
              "       [24, 30,  0, 48]])"
            ]
          },
          "execution_count": 14,
          "metadata": {},
          "output_type": "execute_result"
        }
      ],
      "source": [
        "arr * 6  # element-vise multiplication\n"
      ]
    },
    {
      "cell_type": "code",
      "execution_count": null,
      "metadata": {
        "execution": {
          "iopub.execute_input": "2025-01-02T09:30:58.920873Z",
          "iopub.status.busy": "2025-01-02T09:30:58.920873Z",
          "iopub.status.idle": "2025-01-02T09:30:58.923166Z",
          "shell.execute_reply": "2025-01-02T09:30:58.923166Z"
        },
        "id": "gclcXr1E7RqN",
        "outputId": "88358f16-7537-478d-9351-331dc428edfd"
      },
      "outputs": [
        {
          "data": {
            "text/plain": [
              "array([[ 1,  4,  9, 64],\n",
              "       [ 9,  4,  9,  4],\n",
              "       [16, 25,  0, 64]])"
            ]
          },
          "execution_count": 15,
          "metadata": {},
          "output_type": "execute_result"
        }
      ],
      "source": [
        "arr * arr  # element-vise multiplication of two matrices\n"
      ]
    },
    {
      "cell_type": "code",
      "execution_count": null,
      "metadata": {
        "execution": {
          "iopub.execute_input": "2025-01-02T09:30:58.924283Z",
          "iopub.status.busy": "2025-01-02T09:30:58.924283Z",
          "iopub.status.idle": "2025-01-02T09:30:58.927291Z",
          "shell.execute_reply": "2025-01-02T09:30:58.927291Z"
        },
        "id": "dPa2Cuaj7RqN",
        "outputId": "a99734bf-63a1-4f43-d4a1-3b7894931bd2"
      },
      "outputs": [
        {
          "data": {
            "text/plain": [
              "array([[2.71828183e+00, 7.38905610e+00, 2.00855369e+01, 2.98095799e+03],\n",
              "       [2.00855369e+01, 7.38905610e+00, 2.00855369e+01, 7.38905610e+00],\n",
              "       [5.45981500e+01, 1.48413159e+02, 1.00000000e+00, 2.98095799e+03]])"
            ]
          },
          "execution_count": 16,
          "metadata": {},
          "output_type": "execute_result"
        }
      ],
      "source": [
        "np.exp(arr)\n"
      ]
    },
    {
      "cell_type": "markdown",
      "metadata": {
        "id": "9sOdz7HJ7RqO"
      },
      "source": [
        "More examples:\n",
        "\n"
      ]
    },
    {
      "cell_type": "code",
      "execution_count": null,
      "metadata": {
        "execution": {
          "iopub.execute_input": "2025-01-02T09:30:58.928391Z",
          "iopub.status.busy": "2025-01-02T09:30:58.928391Z",
          "iopub.status.idle": "2025-01-02T09:30:58.931612Z",
          "shell.execute_reply": "2025-01-02T09:30:58.931612Z"
        },
        "id": "krdFZT-v7RqO",
        "outputId": "72a59397-1519-40cf-e933-3d860cdc79ed"
      },
      "outputs": [
        {
          "data": {
            "text/plain": [
              "array([[1],\n",
              "       [3],\n",
              "       [2],\n",
              "       [0]])"
            ]
          },
          "execution_count": 17,
          "metadata": {},
          "output_type": "execute_result"
        }
      ],
      "source": [
        "arr_2 = np.array([[1], [3], [2], [0]])\n",
        "arr_2\n"
      ]
    },
    {
      "cell_type": "code",
      "execution_count": null,
      "metadata": {
        "execution": {
          "iopub.execute_input": "2025-01-02T09:30:58.932708Z",
          "iopub.status.busy": "2025-01-02T09:30:58.932708Z",
          "iopub.status.idle": "2025-01-02T09:30:58.935628Z",
          "shell.execute_reply": "2025-01-02T09:30:58.935628Z"
        },
        "id": "Qic9diB_7RqO",
        "outputId": "4cd3a246-32a4-4cdd-e7f3-ca04056f49e5"
      },
      "outputs": [
        {
          "data": {
            "text/plain": [
              "array([[1, 3, 2, 0]])"
            ]
          },
          "execution_count": 18,
          "metadata": {},
          "output_type": "execute_result"
        }
      ],
      "source": [
        "arr_2_T = arr_2.T  # transpose\n",
        "arr_2_T\n"
      ]
    },
    {
      "cell_type": "code",
      "execution_count": null,
      "metadata": {
        "execution": {
          "iopub.execute_input": "2025-01-02T09:30:58.936723Z",
          "iopub.status.busy": "2025-01-02T09:30:58.936723Z",
          "iopub.status.idle": "2025-01-02T09:30:58.939726Z",
          "shell.execute_reply": "2025-01-02T09:30:58.939726Z"
        },
        "id": "Z_pzXg7k7RqP",
        "outputId": "a4513a85-cbbb-492f-8939-7ca757b95dd7"
      },
      "outputs": [
        {
          "data": {
            "text/plain": [
              "array([[13],\n",
              "       [15],\n",
              "       [19]])"
            ]
          },
          "execution_count": 19,
          "metadata": {},
          "output_type": "execute_result"
        }
      ],
      "source": [
        "arr @ arr_2  # matrix multiplication\n"
      ]
    },
    {
      "cell_type": "code",
      "execution_count": null,
      "metadata": {
        "execution": {
          "iopub.execute_input": "2025-01-02T09:30:58.940840Z",
          "iopub.status.busy": "2025-01-02T09:30:58.940840Z",
          "iopub.status.idle": "2025-01-02T09:30:58.943845Z",
          "shell.execute_reply": "2025-01-02T09:30:58.943845Z"
        },
        "id": "wk0S2t_V7RqP",
        "outputId": "e8dc9d2c-d981-433a-97aa-89106020cb84"
      },
      "outputs": [
        {
          "data": {
            "text/plain": [
              "array([[1, 2, 3, 8],\n",
              "       [3, 2, 3, 2],\n",
              "       [4, 5, 0, 8]])"
            ]
          },
          "execution_count": 20,
          "metadata": {},
          "output_type": "execute_result"
        }
      ],
      "source": [
        "arr\n"
      ]
    },
    {
      "cell_type": "code",
      "execution_count": null,
      "metadata": {
        "execution": {
          "iopub.execute_input": "2025-01-02T09:30:58.943845Z",
          "iopub.status.busy": "2025-01-02T09:30:58.943845Z",
          "iopub.status.idle": "2025-01-02T09:30:58.947819Z",
          "shell.execute_reply": "2025-01-02T09:30:58.947819Z"
        },
        "id": "pclNyWXf7RqP",
        "outputId": "16ca0d54-428f-4901-8449-e37231548c23"
      },
      "outputs": [
        {
          "data": {
            "text/plain": [
              "8"
            ]
          },
          "execution_count": 21,
          "metadata": {},
          "output_type": "execute_result"
        }
      ],
      "source": [
        "arr.max()\n"
      ]
    },
    {
      "cell_type": "code",
      "execution_count": null,
      "metadata": {
        "execution": {
          "iopub.execute_input": "2025-01-02T09:30:58.947819Z",
          "iopub.status.busy": "2025-01-02T09:30:58.947819Z",
          "iopub.status.idle": "2025-01-02T09:30:58.952070Z",
          "shell.execute_reply": "2025-01-02T09:30:58.952070Z"
        },
        "id": "7un1pshN7RqP",
        "outputId": "eb8fe20a-9ba0-4063-d25d-5b387f5fe4c9"
      },
      "outputs": [
        {
          "data": {
            "text/plain": [
              "array([ 1,  3,  6, 14, 17, 19, 22, 24, 28, 33, 33, 41])"
            ]
          },
          "execution_count": 22,
          "metadata": {},
          "output_type": "execute_result"
        }
      ],
      "source": [
        "arr.cumsum()\n"
      ]
    },
    {
      "cell_type": "markdown",
      "metadata": {
        "id": "2__2sZP67RqQ"
      },
      "source": [
        "**Note:** element-by-element operations is done row-by-row, unlike in Matlab (column-by-column)\n",
        "There are many class methods to calculate some statistics of the array itself along some axis:\n",
        "- `axis=1` means row-wise\n",
        "- `axis=0` means column-wise\n",
        "\n"
      ]
    },
    {
      "cell_type": "code",
      "execution_count": null,
      "metadata": {
        "execution": {
          "iopub.execute_input": "2025-01-02T09:30:58.952070Z",
          "iopub.status.busy": "2025-01-02T09:30:58.952070Z",
          "iopub.status.idle": "2025-01-02T09:30:58.956300Z",
          "shell.execute_reply": "2025-01-02T09:30:58.956300Z"
        },
        "id": "W7Mxfqmj7RqQ",
        "outputId": "468af9b7-8194-408f-834c-d0fce0cb1a3c"
      },
      "outputs": [
        {
          "data": {
            "text/plain": [
              "array([[ 1,  3,  6, 14],\n",
              "       [ 3,  5,  8, 10],\n",
              "       [ 4,  9,  9, 17]])"
            ]
          },
          "execution_count": 23,
          "metadata": {},
          "output_type": "execute_result"
        }
      ],
      "source": [
        "arr.cumsum(axis=1)\n"
      ]
    },
    {
      "cell_type": "markdown",
      "metadata": {
        "id": "EulvdcWA7RqQ"
      },
      "source": [
        "### Note about 1d arrays\n",
        "1d array is **not a column vector** & **not entirely a row vector** and hence should be treated carefully when used with vector/matrix manipulation\n",
        "\n"
      ]
    },
    {
      "cell_type": "code",
      "execution_count": null,
      "metadata": {
        "execution": {
          "iopub.execute_input": "2025-01-02T09:30:58.956300Z",
          "iopub.status.busy": "2025-01-02T09:30:58.956300Z",
          "iopub.status.idle": "2025-01-02T09:30:58.960593Z",
          "shell.execute_reply": "2025-01-02T09:30:58.960593Z"
        },
        "id": "J4mEyWCT7RqR",
        "outputId": "679db11b-b063-40a7-8bec-8f0f0376829c"
      },
      "outputs": [
        {
          "data": {
            "text/plain": [
              "(array([1, 2, 3]), (3,))"
            ]
          },
          "execution_count": 24,
          "metadata": {},
          "output_type": "execute_result"
        }
      ],
      "source": [
        "a = np.array([1, 2, 3])\n",
        "a, a.shape\n"
      ]
    },
    {
      "cell_type": "code",
      "execution_count": null,
      "metadata": {
        "execution": {
          "iopub.execute_input": "2025-01-02T09:30:58.960593Z",
          "iopub.status.busy": "2025-01-02T09:30:58.960593Z",
          "iopub.status.idle": "2025-01-02T09:30:58.964588Z",
          "shell.execute_reply": "2025-01-02T09:30:58.964588Z"
        },
        "id": "oeLiYyzP7RqR",
        "outputId": "2c0d309a-bae7-4b1b-c504-d12c790471c8"
      },
      "outputs": [
        {
          "data": {
            "text/plain": [
              "(array([[1, 2, 3]]), (1, 3))"
            ]
          },
          "execution_count": 25,
          "metadata": {},
          "output_type": "execute_result"
        }
      ],
      "source": [
        "c = np.array([[1, 2, 3]])\n",
        "c, c.shape  # notice the shape diff\n"
      ]
    },
    {
      "cell_type": "code",
      "execution_count": null,
      "metadata": {
        "execution": {
          "iopub.execute_input": "2025-01-02T09:30:58.964588Z",
          "iopub.status.busy": "2025-01-02T09:30:58.964588Z",
          "iopub.status.idle": "2025-01-02T09:30:58.968861Z",
          "shell.execute_reply": "2025-01-02T09:30:58.968861Z"
        },
        "id": "1WiEqy667RqS",
        "outputId": "c9e41745-d3c8-4351-b237-c72f9fbb4509"
      },
      "outputs": [
        {
          "data": {
            "text/plain": [
              "array([[1, 2],\n",
              "       [3, 4],\n",
              "       [5, 6]])"
            ]
          },
          "execution_count": 26,
          "metadata": {},
          "output_type": "execute_result"
        }
      ],
      "source": [
        "# can be multiply like a row vector\n",
        "b = np.array([[1, 2], [3, 4], [5, 6]])\n",
        "b\n"
      ]
    },
    {
      "cell_type": "code",
      "execution_count": null,
      "metadata": {
        "execution": {
          "iopub.execute_input": "2025-01-02T09:30:58.968861Z",
          "iopub.status.busy": "2025-01-02T09:30:58.968861Z",
          "iopub.status.idle": "2025-01-02T09:30:58.973201Z",
          "shell.execute_reply": "2025-01-02T09:30:58.973201Z"
        },
        "id": "RSTKiDLU7RqS",
        "outputId": "28a179d4-6089-4436-892a-827b44ec2928"
      },
      "outputs": [
        {
          "data": {
            "text/plain": [
              "array([22, 28])"
            ]
          },
          "execution_count": 27,
          "metadata": {},
          "output_type": "execute_result"
        }
      ],
      "source": [
        "a @ b\n"
      ]
    },
    {
      "cell_type": "code",
      "execution_count": null,
      "metadata": {
        "execution": {
          "iopub.execute_input": "2025-01-02T09:30:58.973201Z",
          "iopub.status.busy": "2025-01-02T09:30:58.973201Z",
          "iopub.status.idle": "2025-01-02T09:30:58.977477Z",
          "shell.execute_reply": "2025-01-02T09:30:58.977477Z"
        },
        "id": "8qrTHPpz7RqS",
        "outputId": "2cca6063-ee47-4044-8f73-9ce5aa770f1b"
      },
      "outputs": [
        {
          "data": {
            "text/plain": [
              "(array([1, 2, 3]), (3,))"
            ]
          },
          "execution_count": 28,
          "metadata": {},
          "output_type": "execute_result"
        }
      ],
      "source": [
        "# can't be transformed!\n",
        "a.T, a.T.shape\n"
      ]
    },
    {
      "cell_type": "markdown",
      "metadata": {
        "id": "0RnG2KhD7RqS"
      },
      "source": [
        "A trick to transform 1d array into 2d row vector:\n",
        "\n"
      ]
    },
    {
      "cell_type": "code",
      "execution_count": null,
      "metadata": {
        "execution": {
          "iopub.execute_input": "2025-01-02T09:30:58.977477Z",
          "iopub.status.busy": "2025-01-02T09:30:58.977477Z",
          "iopub.status.idle": "2025-01-02T09:30:58.981344Z",
          "shell.execute_reply": "2025-01-02T09:30:58.981344Z"
        },
        "id": "U-rUHihq7RqS",
        "outputId": "9992ce6f-0af1-448a-945b-0ad900afb07a"
      },
      "outputs": [
        {
          "name": "stdout",
          "output_type": "stream",
          "text": [
            "[[1 2 3]]\n",
            "[[1]\n",
            " [2]\n",
            " [3]]\n"
          ]
        }
      ],
      "source": [
        "a_2d = a.reshape((1, -1))  # '-1' means to put all the rest of the elements in such a way that the reshape could fit\n",
        "print(a_2d)\n",
        "print(a_2d.T)\n"
      ]
    },
    {
      "cell_type": "markdown",
      "metadata": {
        "id": "r2HaR7Jg7RqY"
      },
      "source": [
        "## Indexing and slicing\n",
        "The most important part is how to index and slice a `np.array`. It is actually very similar to `list`, except that we now may have more index elements because there are more than one dimension for most of the datasets in real life\n",
        "### 1 dimensional case\n",
        "\n"
      ]
    },
    {
      "cell_type": "code",
      "execution_count": null,
      "metadata": {
        "execution": {
          "iopub.execute_input": "2025-01-02T09:30:58.981344Z",
          "iopub.status.busy": "2025-01-02T09:30:58.981344Z",
          "iopub.status.idle": "2025-01-02T09:30:58.985565Z",
          "shell.execute_reply": "2025-01-02T09:30:58.985565Z"
        },
        "id": "xcz08VB97RqY",
        "outputId": "666a6a05-3d96-4b8a-c5e6-9e766fb54be7"
      },
      "outputs": [
        {
          "data": {
            "text/plain": [
              "array([  1,   2,   8, 100])"
            ]
          },
          "execution_count": 30,
          "metadata": {},
          "output_type": "execute_result"
        }
      ],
      "source": [
        "a1 = np.array([1, 2, 8, 100])\n",
        "a1\n"
      ]
    },
    {
      "cell_type": "code",
      "execution_count": null,
      "metadata": {
        "execution": {
          "iopub.execute_input": "2025-01-02T09:30:58.985565Z",
          "iopub.status.busy": "2025-01-02T09:30:58.985565Z",
          "iopub.status.idle": "2025-01-02T09:30:58.989817Z",
          "shell.execute_reply": "2025-01-02T09:30:58.989817Z"
        },
        "id": "-ppmUziu7RqZ",
        "outputId": "76040a1e-b4cb-43d2-e3bb-bb3fce8e5b13"
      },
      "outputs": [
        {
          "data": {
            "text/plain": [
              "1"
            ]
          },
          "execution_count": 31,
          "metadata": {},
          "output_type": "execute_result"
        }
      ],
      "source": [
        "a1[0]\n"
      ]
    },
    {
      "cell_type": "code",
      "execution_count": null,
      "metadata": {
        "execution": {
          "iopub.execute_input": "2025-01-02T09:30:58.989817Z",
          "iopub.status.busy": "2025-01-02T09:30:58.989817Z",
          "iopub.status.idle": "2025-01-02T09:30:58.993792Z",
          "shell.execute_reply": "2025-01-02T09:30:58.993792Z"
        },
        "id": "amkZxfUX7RqZ",
        "outputId": "df38a6ac-7501-481a-a42d-96cdefb9b7b5"
      },
      "outputs": [
        {
          "data": {
            "text/plain": [
              "8"
            ]
          },
          "execution_count": 32,
          "metadata": {},
          "output_type": "execute_result"
        }
      ],
      "source": [
        "a1[-2]\n"
      ]
    },
    {
      "cell_type": "code",
      "execution_count": null,
      "metadata": {
        "execution": {
          "iopub.execute_input": "2025-01-02T09:30:58.993792Z",
          "iopub.status.busy": "2025-01-02T09:30:58.993792Z",
          "iopub.status.idle": "2025-01-02T09:30:58.997900Z",
          "shell.execute_reply": "2025-01-02T09:30:58.997900Z"
        },
        "id": "g2oYS9vM7RqZ",
        "outputId": "e1d04943-06a5-4458-fcbf-0b0ebb8d32f7"
      },
      "outputs": [
        {
          "data": {
            "text/plain": [
              "array([  1,   2, 100])"
            ]
          },
          "execution_count": 33,
          "metadata": {},
          "output_type": "execute_result"
        }
      ],
      "source": [
        "a1[[0, 1, 3]]\n"
      ]
    },
    {
      "cell_type": "code",
      "execution_count": null,
      "metadata": {
        "execution": {
          "iopub.execute_input": "2025-01-02T09:30:58.997900Z",
          "iopub.status.busy": "2025-01-02T09:30:58.997900Z",
          "iopub.status.idle": "2025-01-02T09:30:59.001923Z",
          "shell.execute_reply": "2025-01-02T09:30:59.001923Z"
        },
        "id": "qY9o8HTw7RqZ",
        "outputId": "4906ef60-3136-45a4-892d-0d99151dd473"
      },
      "outputs": [
        {
          "data": {
            "text/plain": [
              "array([  2,   8, 100])"
            ]
          },
          "execution_count": 34,
          "metadata": {},
          "output_type": "execute_result"
        }
      ],
      "source": [
        "a1[1:4]\n"
      ]
    },
    {
      "cell_type": "markdown",
      "metadata": {
        "id": "ShbtWuz37Rqa"
      },
      "source": [
        "We can also use boolean values to index\n",
        "- `True` means we want this element\n",
        "\n"
      ]
    },
    {
      "cell_type": "code",
      "execution_count": null,
      "metadata": {
        "execution": {
          "iopub.execute_input": "2025-01-02T09:30:59.001923Z",
          "iopub.status.busy": "2025-01-02T09:30:59.001923Z",
          "iopub.status.idle": "2025-01-02T09:30:59.006523Z",
          "shell.execute_reply": "2025-01-02T09:30:59.006523Z"
        },
        "id": "SO4leGNS7Rqa",
        "outputId": "b305dcbd-e3a1-49a2-9c45-c199ad58ee2f"
      },
      "outputs": [
        {
          "data": {
            "text/plain": [
              "array([False, False,  True,  True])"
            ]
          },
          "execution_count": 35,
          "metadata": {},
          "output_type": "execute_result"
        }
      ],
      "source": [
        "a1 > 3\n"
      ]
    },
    {
      "cell_type": "markdown",
      "metadata": {
        "id": "KIagtLEc7Rqa"
      },
      "source": [
        "### Masking\n",
        "replacing values of array with another values according to a boolean mask\n"
      ]
    },
    {
      "cell_type": "code",
      "execution_count": null,
      "metadata": {
        "execution": {
          "iopub.execute_input": "2025-01-02T09:30:59.006523Z",
          "iopub.status.busy": "2025-01-02T09:30:59.006523Z",
          "iopub.status.idle": "2025-01-02T09:30:59.010565Z",
          "shell.execute_reply": "2025-01-02T09:30:59.010565Z"
        },
        "id": "0HbVvwqD7Rqa",
        "outputId": "b2524c73-4c53-4ece-bc79-e39f107affd3"
      },
      "outputs": [
        {
          "data": {
            "text/plain": [
              "array([  8, 100])"
            ]
          },
          "execution_count": 36,
          "metadata": {},
          "output_type": "execute_result"
        }
      ],
      "source": [
        "# this is the mask\n",
        "a1[a1 > 3]\n"
      ]
    },
    {
      "cell_type": "code",
      "execution_count": null,
      "metadata": {
        "execution": {
          "iopub.execute_input": "2025-01-02T09:30:59.010565Z",
          "iopub.status.busy": "2025-01-02T09:30:59.010565Z",
          "iopub.status.idle": "2025-01-02T09:30:59.014634Z",
          "shell.execute_reply": "2025-01-02T09:30:59.014634Z"
        },
        "id": "XVq95s7L7Rqb",
        "outputId": "6500009a-1286-4c78-818a-ed4eb6573b13"
      },
      "outputs": [
        {
          "data": {
            "text/plain": [
              "array([  1,   2, 100, 100])"
            ]
          },
          "execution_count": 37,
          "metadata": {},
          "output_type": "execute_result"
        }
      ],
      "source": [
        "# this is a use of the above mask\n",
        "a1[a1 > 3] = 100\n",
        "a1\n"
      ]
    },
    {
      "cell_type": "markdown",
      "metadata": {
        "id": "xiP3nq9k7Rqb"
      },
      "source": [
        "### 2 dimensional case\n",
        "\n"
      ]
    },
    {
      "cell_type": "code",
      "execution_count": null,
      "metadata": {
        "execution": {
          "iopub.execute_input": "2025-01-02T09:30:59.014634Z",
          "iopub.status.busy": "2025-01-02T09:30:59.014634Z",
          "iopub.status.idle": "2025-01-02T09:30:59.018877Z",
          "shell.execute_reply": "2025-01-02T09:30:59.018877Z"
        },
        "id": "bee3Zcyx7Rqb",
        "outputId": "c6b2686f-f43d-458c-96b1-5ac0e95460fa"
      },
      "outputs": [
        {
          "data": {
            "text/plain": [
              "array([[1, 2, 3, 8],\n",
              "       [3, 2, 3, 2],\n",
              "       [4, 5, 0, 8]])"
            ]
          },
          "execution_count": 38,
          "metadata": {},
          "output_type": "execute_result"
        }
      ],
      "source": [
        "arr\n"
      ]
    },
    {
      "cell_type": "markdown",
      "metadata": {
        "id": "UDv_j6v37Rqc"
      },
      "source": [
        "Using only one number to index will lead to a subset of the original multidimensional array: also an array\n",
        "\n"
      ]
    },
    {
      "cell_type": "code",
      "execution_count": null,
      "metadata": {
        "execution": {
          "iopub.execute_input": "2025-01-02T09:30:59.018877Z",
          "iopub.status.busy": "2025-01-02T09:30:59.018877Z",
          "iopub.status.idle": "2025-01-02T09:30:59.023129Z",
          "shell.execute_reply": "2025-01-02T09:30:59.023129Z"
        },
        "id": "DlhGiCLM7Rqc",
        "outputId": "43f03593-caf0-4fb3-8c84-8f603de51c75"
      },
      "outputs": [
        {
          "data": {
            "text/plain": [
              "array([1, 2, 3, 8])"
            ]
          },
          "execution_count": 39,
          "metadata": {},
          "output_type": "execute_result"
        }
      ],
      "source": [
        "arr[0]\n"
      ]
    },
    {
      "cell_type": "code",
      "execution_count": null,
      "metadata": {
        "execution": {
          "iopub.execute_input": "2025-01-02T09:30:59.023129Z",
          "iopub.status.busy": "2025-01-02T09:30:59.023129Z",
          "iopub.status.idle": "2025-01-02T09:30:59.026951Z",
          "shell.execute_reply": "2025-01-02T09:30:59.026951Z"
        },
        "id": "qEj24aXC7Rqc",
        "outputId": "ba076254-88ee-4209-9cfd-ae58134b01c8"
      },
      "outputs": [
        {
          "data": {
            "text/plain": [
              "numpy.ndarray"
            ]
          },
          "execution_count": 40,
          "metadata": {},
          "output_type": "execute_result"
        }
      ],
      "source": [
        "type(arr[0])\n"
      ]
    },
    {
      "cell_type": "markdown",
      "metadata": {
        "id": "ZSlPzZVb7Rqd"
      },
      "source": [
        "Since we have 2 dimensions now, there are 2 indices we can use for indexing the 2 dimensions respectively\n",
        "\n"
      ]
    },
    {
      "cell_type": "code",
      "execution_count": null,
      "metadata": {
        "execution": {
          "iopub.execute_input": "2025-01-02T09:30:59.026951Z",
          "iopub.status.busy": "2025-01-02T09:30:59.026951Z",
          "iopub.status.idle": "2025-01-02T09:30:59.030964Z",
          "shell.execute_reply": "2025-01-02T09:30:59.030964Z"
        },
        "id": "Kmzjn0-17Rqd",
        "outputId": "8dfe7951-5a05-4ada-8d33-5d1912840ea2"
      },
      "outputs": [
        {
          "data": {
            "text/plain": [
              "1"
            ]
          },
          "execution_count": 41,
          "metadata": {},
          "output_type": "execute_result"
        }
      ],
      "source": [
        "arr[0, 0]\n"
      ]
    },
    {
      "cell_type": "markdown",
      "metadata": {
        "id": "Ric5_cQC7Rqf"
      },
      "source": [
        "We can use `:` to indicate everything along that axis\n",
        "\n"
      ]
    },
    {
      "cell_type": "code",
      "execution_count": null,
      "metadata": {
        "execution": {
          "iopub.execute_input": "2025-01-02T09:30:59.030964Z",
          "iopub.status.busy": "2025-01-02T09:30:59.030964Z",
          "iopub.status.idle": "2025-01-02T09:30:59.034930Z",
          "shell.execute_reply": "2025-01-02T09:30:59.034930Z"
        },
        "id": "oktDM7io7Rqg",
        "outputId": "b2290082-cdc1-47aa-c88e-9a2258210129"
      },
      "outputs": [
        {
          "data": {
            "text/plain": [
              "array([3, 2, 3, 2])"
            ]
          },
          "execution_count": 42,
          "metadata": {},
          "output_type": "execute_result"
        }
      ],
      "source": [
        "arr[1]\n"
      ]
    },
    {
      "cell_type": "code",
      "execution_count": null,
      "metadata": {
        "execution": {
          "iopub.execute_input": "2025-01-02T09:30:59.034930Z",
          "iopub.status.busy": "2025-01-02T09:30:59.034930Z",
          "iopub.status.idle": "2025-01-02T09:30:59.039140Z",
          "shell.execute_reply": "2025-01-02T09:30:59.039140Z"
        },
        "id": "0doEVN7r7Rqg",
        "outputId": "edb8f539-65c0-45ae-b49b-be27ca095079"
      },
      "outputs": [
        {
          "data": {
            "text/plain": [
              "array([3, 2, 3, 2])"
            ]
          },
          "execution_count": 43,
          "metadata": {},
          "output_type": "execute_result"
        }
      ],
      "source": [
        "arr[1, :]\n"
      ]
    },
    {
      "cell_type": "code",
      "execution_count": null,
      "metadata": {
        "execution": {
          "iopub.execute_input": "2025-01-02T09:30:59.039140Z",
          "iopub.status.busy": "2025-01-02T09:30:59.039140Z",
          "iopub.status.idle": "2025-01-02T09:30:59.043413Z",
          "shell.execute_reply": "2025-01-02T09:30:59.043413Z"
        },
        "id": "f3y3uoI47Rqg",
        "outputId": "d33b6fa6-7899-4fbe-b62a-3847230ade9a"
      },
      "outputs": [
        {
          "data": {
            "text/plain": [
              "array([2, 2, 5])"
            ]
          },
          "execution_count": 44,
          "metadata": {},
          "output_type": "execute_result"
        }
      ],
      "source": [
        "arr[:, 1]  # watch out! we've got a 1d array again instead of column vector as maybe expected\n"
      ]
    },
    {
      "cell_type": "code",
      "execution_count": null,
      "metadata": {
        "execution": {
          "iopub.execute_input": "2025-01-02T09:30:59.043413Z",
          "iopub.status.busy": "2025-01-02T09:30:59.043413Z",
          "iopub.status.idle": "2025-01-02T09:30:59.046941Z",
          "shell.execute_reply": "2025-01-02T09:30:59.046941Z"
        },
        "id": "z0Q7B1fT7Rqg"
      },
      "outputs": [],
      "source": [
        "# 2D masking\n",
        "arr[arr > 3] = 55\n"
      ]
    },
    {
      "cell_type": "markdown",
      "metadata": {
        "id": "8pjrCPPV7Rqg"
      },
      "source": [
        "### 3 dimensional case\n",
        "As a final example, we look at a 3d array:\n",
        "\n"
      ]
    },
    {
      "cell_type": "code",
      "execution_count": null,
      "metadata": {
        "execution": {
          "iopub.execute_input": "2025-01-02T09:30:59.046941Z",
          "iopub.status.busy": "2025-01-02T09:30:59.046941Z",
          "iopub.status.idle": "2025-01-02T09:30:59.051336Z",
          "shell.execute_reply": "2025-01-02T09:30:59.051336Z"
        },
        "id": "TQTKSyIF7Rqh",
        "outputId": "4f1523ba-039f-44b2-f16a-ef77a550f3e6"
      },
      "outputs": [
        {
          "data": {
            "text/plain": [
              "array([47, 83, 38, 53, 76, 24, 15, 49, 23, 26, 30, 43, 30, 26, 58, 92, 69,\n",
              "       80, 73, 47, 50, 76, 37, 34])"
            ]
          },
          "execution_count": 46,
          "metadata": {},
          "output_type": "execute_result"
        }
      ],
      "source": [
        "np.random.seed(1234)\n",
        "arr_3 = np.random.randint(low=0, high=100, size=24)\n",
        "arr_3\n"
      ]
    },
    {
      "cell_type": "markdown",
      "metadata": {
        "id": "yKH0e6UB7Rqh"
      },
      "source": [
        "We can use `reshape` to manipulate the shape of an array\n",
        "\n"
      ]
    },
    {
      "cell_type": "code",
      "execution_count": null,
      "metadata": {
        "execution": {
          "iopub.execute_input": "2025-01-02T09:30:59.051336Z",
          "iopub.status.busy": "2025-01-02T09:30:59.051336Z",
          "iopub.status.idle": "2025-01-02T09:30:59.055364Z",
          "shell.execute_reply": "2025-01-02T09:30:59.055364Z"
        },
        "id": "bC1NYwYE7Rqi",
        "outputId": "71e77ffe-4473-4daa-8738-0e0cad5b91df"
      },
      "outputs": [
        {
          "data": {
            "text/plain": [
              "array([[[47, 83],\n",
              "        [38, 53],\n",
              "        [76, 24],\n",
              "        [15, 49]],\n",
              "\n",
              "       [[23, 26],\n",
              "        [30, 43],\n",
              "        [30, 26],\n",
              "        [58, 92]],\n",
              "\n",
              "       [[69, 80],\n",
              "        [73, 47],\n",
              "        [50, 76],\n",
              "        [37, 34]]])"
            ]
          },
          "execution_count": 47,
          "metadata": {},
          "output_type": "execute_result"
        }
      ],
      "source": [
        "arr_3 = arr_3.reshape(3, 4, 2)\n",
        "arr_3\n"
      ]
    },
    {
      "cell_type": "markdown",
      "metadata": {
        "id": "ezQfA4fc7Rqi"
      },
      "source": [
        "**Note**: Are the printed array not what you though it would be? Did they mixed the shape? No!\n",
        "see [this for answers](https://stackoverflow.com/a/22982371/4879610)\n",
        "\n"
      ]
    },
    {
      "cell_type": "code",
      "execution_count": null,
      "metadata": {
        "execution": {
          "iopub.execute_input": "2025-01-02T09:30:59.055858Z",
          "iopub.status.busy": "2025-01-02T09:30:59.055858Z",
          "iopub.status.idle": "2025-01-02T09:30:59.059413Z",
          "shell.execute_reply": "2025-01-02T09:30:59.059413Z"
        },
        "id": "V24YnEkq7Rqi",
        "outputId": "ebccf1a4-62af-4c74-e2d9-5f0436984327"
      },
      "outputs": [
        {
          "data": {
            "text/plain": [
              "array([[47, 83],\n",
              "       [38, 53],\n",
              "       [76, 24],\n",
              "       [15, 49]])"
            ]
          },
          "execution_count": 48,
          "metadata": {},
          "output_type": "execute_result"
        }
      ],
      "source": [
        "arr_3[0]\n"
      ]
    },
    {
      "cell_type": "code",
      "execution_count": null,
      "metadata": {
        "execution": {
          "iopub.execute_input": "2025-01-02T09:30:59.059413Z",
          "iopub.status.busy": "2025-01-02T09:30:59.059413Z",
          "iopub.status.idle": "2025-01-02T09:30:59.063352Z",
          "shell.execute_reply": "2025-01-02T09:30:59.063352Z"
        },
        "id": "tEWOaF2a7Rqi",
        "outputId": "047473ca-dccc-48c4-e287-cac3066032cd"
      },
      "outputs": [
        {
          "data": {
            "text/plain": [
              "array([49, 92, 34])"
            ]
          },
          "execution_count": 49,
          "metadata": {},
          "output_type": "execute_result"
        }
      ],
      "source": [
        "arr_3[:, 3, 1]\n"
      ]
    },
    {
      "cell_type": "code",
      "execution_count": null,
      "metadata": {
        "execution": {
          "iopub.execute_input": "2025-01-02T09:30:59.063352Z",
          "iopub.status.busy": "2025-01-02T09:30:59.063352Z",
          "iopub.status.idle": "2025-01-02T09:30:59.067396Z",
          "shell.execute_reply": "2025-01-02T09:30:59.067396Z"
        },
        "id": "PzqsWc9p7Rqj",
        "outputId": "eecca3a1-62a9-46af-cf30-56cd65e9b973"
      },
      "outputs": [
        {
          "data": {
            "text/plain": [
              "34"
            ]
          },
          "execution_count": 50,
          "metadata": {},
          "output_type": "execute_result"
        }
      ],
      "source": [
        "arr_3[2, 3, 1]\n"
      ]
    }
  ],
  "metadata": {
    "language_info": {
      "codemirror_mode": {
        "name": "ipython",
        "version": 3
      },
      "file_extension": ".py",
      "mimetype": "text/x-python",
      "name": "python",
      "nbconvert_exporter": "python",
      "pygments_lexer": "ipython3",
      "version": "3.11.7"
    },
    "colab": {
      "provenance": []
    }
  },
  "nbformat": 4,
  "nbformat_minor": 0
}